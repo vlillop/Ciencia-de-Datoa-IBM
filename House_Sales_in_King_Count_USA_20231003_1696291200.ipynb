{
  "nbformat": 4,
  "nbformat_minor": 0,
  "metadata": {
    "colab": {
      "provenance": [],
      "authorship_tag": "ABX9TyN/dtctekrMB0TbS5KBihnL",
      "include_colab_link": true
    },
    "kernelspec": {
      "name": "python3",
      "display_name": "Python 3"
    },
    "language_info": {
      "name": "python"
    }
  },
  "cells": [
    {
      "cell_type": "markdown",
      "metadata": {
        "id": "view-in-github",
        "colab_type": "text"
      },
      "source": [
        "<a href=\"https://colab.research.google.com/github/vlillop/Ciencia-de-Datoa-IBM/blob/main/House_Sales_in_King_Count_USA_20231003_1696291200.ipynb\" target=\"_parent\"><img src=\"https://colab.research.google.com/assets/colab-badge.svg\" alt=\"Open In Colab\"/></a>"
      ]
    },
    {
      "cell_type": "markdown",
      "source": [
        "# **Final Project: House Sales in King County, USA**"
      ],
      "metadata": {
        "id": "Za09f8Q81RdB"
      }
    },
    {
      "cell_type": "code",
      "execution_count": null,
      "metadata": {
        "colab": {
          "base_uri": "https://localhost:8080/"
        },
        "id": "Z5NUaEv0gg5M",
        "outputId": "4f8731f6-ef7e-43b2-cf08-52617d8833f5"
      },
      "outputs": [
        {
          "output_type": "stream",
          "name": "stdout",
          "text": [
            "Archivo descargado correctamente como: housing.csv\n",
            "Primeras filas del DataFrame:\n",
            "   Unnamed: 0          id             date     price  bedrooms  bathrooms  \\\n",
            "0           0  7129300520  20141013T000000  221900.0       3.0       1.00   \n",
            "1           1  6414100192  20141209T000000  538000.0       3.0       2.25   \n",
            "2           2  5631500400  20150225T000000  180000.0       2.0       1.00   \n",
            "3           3  2487200875  20141209T000000  604000.0       4.0       3.00   \n",
            "4           4  1954400510  20150218T000000  510000.0       3.0       2.00   \n",
            "\n",
            "   sqft_living  sqft_lot  floors  waterfront  ...  grade  sqft_above  \\\n",
            "0         1180      5650     1.0           0  ...      7        1180   \n",
            "1         2570      7242     2.0           0  ...      7        2170   \n",
            "2          770     10000     1.0           0  ...      6         770   \n",
            "3         1960      5000     1.0           0  ...      7        1050   \n",
            "4         1680      8080     1.0           0  ...      8        1680   \n",
            "\n",
            "   sqft_basement  yr_built  yr_renovated  zipcode      lat     long  \\\n",
            "0              0      1955             0    98178  47.5112 -122.257   \n",
            "1            400      1951          1991    98125  47.7210 -122.319   \n",
            "2              0      1933             0    98028  47.7379 -122.233   \n",
            "3            910      1965             0    98136  47.5208 -122.393   \n",
            "4              0      1987             0    98074  47.6168 -122.045   \n",
            "\n",
            "   sqft_living15  sqft_lot15  \n",
            "0           1340        5650  \n",
            "1           1690        7639  \n",
            "2           2720        8062  \n",
            "3           1360        5000  \n",
            "4           1800        7503  \n",
            "\n",
            "[5 rows x 22 columns]\n"
          ]
        }
      ],
      "source": [
        "import requests\n",
        "import pandas as pd\n",
        "\n",
        "# URL del archivo CSV\n",
        "url = 'https://cf-courses-data.s3.us.cloud-object-storage.appdomain.cloud/IBMDeveloperSkillsNetwork-DA0101EN-SkillsNetwork/labs/FinalModule_Coursera/data/kc_house_data_NaN.csv'\n",
        "file_name = \"housing.csv\"\n",
        "\n",
        "# Descargar el archivo CSV\n",
        "response = requests.get(url)\n",
        "if response.status_code == 200:\n",
        "    with open(file_name, 'wb') as file:\n",
        "        file.write(response.content)\n",
        "    print(f\"Archivo descargado correctamente como: {file_name}\")\n",
        "else:\n",
        "    print(f\"Error al descargar el archivo. Código de estado: {response.status_code}\")\n",
        "\n",
        "# Leer el archivo en un DataFrame\n",
        "df = pd.read_csv(file_name)\n",
        "\n",
        "# Mostrar las primeras filas del DataFrame\n",
        "print(\"Primeras filas del DataFrame:\")\n",
        "print(df.head())"
      ]
    },
    {
      "cell_type": "markdown",
      "source": [
        "**Question 1**\n",
        "\n",
        "Display the data types of each column using the function dtypes. Take a screenshot of your code and output. You will need to submit the screenshot for the final project."
      ],
      "metadata": {
        "id": "_vB-A6hblr3E"
      }
    },
    {
      "cell_type": "code",
      "source": [
        "# Mostrar los tipos de datos de cada columna\n",
        "print(\"\\nTipos de datos de cada columna:\")\n",
        "print(df.dtypes)"
      ],
      "metadata": {
        "colab": {
          "base_uri": "https://localhost:8080/"
        },
        "id": "iiAfXUh9kZNQ",
        "outputId": "4b356b09-7847-4829-f073-4949322e3225"
      },
      "execution_count": null,
      "outputs": [
        {
          "output_type": "stream",
          "name": "stdout",
          "text": [
            "\n",
            "Tipos de datos de cada columna:\n",
            "Unnamed: 0         int64\n",
            "id                 int64\n",
            "date              object\n",
            "price            float64\n",
            "bedrooms         float64\n",
            "bathrooms        float64\n",
            "sqft_living        int64\n",
            "sqft_lot           int64\n",
            "floors           float64\n",
            "waterfront         int64\n",
            "view               int64\n",
            "condition          int64\n",
            "grade              int64\n",
            "sqft_above         int64\n",
            "sqft_basement      int64\n",
            "yr_built           int64\n",
            "yr_renovated       int64\n",
            "zipcode            int64\n",
            "lat              float64\n",
            "long             float64\n",
            "sqft_living15      int64\n",
            "sqft_lot15         int64\n",
            "dtype: object\n"
          ]
        }
      ]
    },
    {
      "cell_type": "markdown",
      "source": [
        "We use the method describe to obtain a statistical summary of the dataframe."
      ],
      "metadata": {
        "id": "sKhc42eEmUJQ"
      }
    },
    {
      "cell_type": "code",
      "source": [
        "# Get a statistical summary of the DataFrame\n",
        "print(df.describe())"
      ],
      "metadata": {
        "colab": {
          "base_uri": "https://localhost:8080/"
        },
        "id": "pHE8Vo9CmTD5",
        "outputId": "60a0f21f-fb77-4abd-8abe-af4b72e4e952"
      },
      "execution_count": null,
      "outputs": [
        {
          "output_type": "stream",
          "name": "stdout",
          "text": [
            "        Unnamed: 0            id         price      bedrooms     bathrooms  \\\n",
            "count  21613.00000  2.161300e+04  2.161300e+04  21600.000000  21603.000000   \n",
            "mean   10806.00000  4.580302e+09  5.400881e+05      3.372870      2.115736   \n",
            "std     6239.28002  2.876566e+09  3.671272e+05      0.926657      0.768996   \n",
            "min        0.00000  1.000102e+06  7.500000e+04      1.000000      0.500000   \n",
            "25%     5403.00000  2.123049e+09  3.219500e+05      3.000000      1.750000   \n",
            "50%    10806.00000  3.904930e+09  4.500000e+05      3.000000      2.250000   \n",
            "75%    16209.00000  7.308900e+09  6.450000e+05      4.000000      2.500000   \n",
            "max    21612.00000  9.900000e+09  7.700000e+06     33.000000      8.000000   \n",
            "\n",
            "        sqft_living      sqft_lot        floors    waterfront          view  \\\n",
            "count  21613.000000  2.161300e+04  21613.000000  21613.000000  21613.000000   \n",
            "mean    2079.899736  1.510697e+04      1.494309      0.007542      0.234303   \n",
            "std      918.440897  4.142051e+04      0.539989      0.086517      0.766318   \n",
            "min      290.000000  5.200000e+02      1.000000      0.000000      0.000000   \n",
            "25%     1427.000000  5.040000e+03      1.000000      0.000000      0.000000   \n",
            "50%     1910.000000  7.618000e+03      1.500000      0.000000      0.000000   \n",
            "75%     2550.000000  1.068800e+04      2.000000      0.000000      0.000000   \n",
            "max    13540.000000  1.651359e+06      3.500000      1.000000      4.000000   \n",
            "\n",
            "       ...         grade    sqft_above  sqft_basement      yr_built  \\\n",
            "count  ...  21613.000000  21613.000000   21613.000000  21613.000000   \n",
            "mean   ...      7.656873   1788.390691     291.509045   1971.005136   \n",
            "std    ...      1.175459    828.090978     442.575043     29.373411   \n",
            "min    ...      1.000000    290.000000       0.000000   1900.000000   \n",
            "25%    ...      7.000000   1190.000000       0.000000   1951.000000   \n",
            "50%    ...      7.000000   1560.000000       0.000000   1975.000000   \n",
            "75%    ...      8.000000   2210.000000     560.000000   1997.000000   \n",
            "max    ...     13.000000   9410.000000    4820.000000   2015.000000   \n",
            "\n",
            "       yr_renovated       zipcode           lat          long  sqft_living15  \\\n",
            "count  21613.000000  21613.000000  21613.000000  21613.000000   21613.000000   \n",
            "mean      84.402258  98077.939805     47.560053   -122.213896    1986.552492   \n",
            "std      401.679240     53.505026      0.138564      0.140828     685.391304   \n",
            "min        0.000000  98001.000000     47.155900   -122.519000     399.000000   \n",
            "25%        0.000000  98033.000000     47.471000   -122.328000    1490.000000   \n",
            "50%        0.000000  98065.000000     47.571800   -122.230000    1840.000000   \n",
            "75%        0.000000  98118.000000     47.678000   -122.125000    2360.000000   \n",
            "max     2015.000000  98199.000000     47.777600   -121.315000    6210.000000   \n",
            "\n",
            "          sqft_lot15  \n",
            "count   21613.000000  \n",
            "mean    12768.455652  \n",
            "std     27304.179631  \n",
            "min       651.000000  \n",
            "25%      5100.000000  \n",
            "50%      7620.000000  \n",
            "75%     10083.000000  \n",
            "max    871200.000000  \n",
            "\n",
            "[8 rows x 21 columns]\n"
          ]
        }
      ]
    },
    {
      "cell_type": "markdown",
      "source": [
        "**Question 2**\n",
        "\n",
        "Drop the columns \"id\" and \"Unnamed: 0\" from axis 1 using the method drop(), then use the method describe() to obtain a statistical summary of the data. Make sure the inplace parameter is set to True. Take a screenshot of your code and output. You will need to submit the screenshot for the final project."
      ],
      "metadata": {
        "id": "3uFA5qvonP62"
      }
    },
    {
      "cell_type": "code",
      "source": [
        "# Drop the columns \"id\" and \"Unnamed: 0\" from the DataFrame\n",
        "df.drop([\"id\", \"Unnamed: 0\"], axis=1, inplace=True)\n",
        "\n",
        "# Get a statistical summary of the updated DataFrame\n",
        "print(df.describe())\n"
      ],
      "metadata": {
        "colab": {
          "base_uri": "https://localhost:8080/"
        },
        "id": "ceHmBeCrm3V4",
        "outputId": "83aaf3ca-558a-4c8c-d466-097279a45139"
      },
      "execution_count": null,
      "outputs": [
        {
          "output_type": "stream",
          "name": "stdout",
          "text": [
            "              price      bedrooms     bathrooms   sqft_living      sqft_lot  \\\n",
            "count  2.161300e+04  21600.000000  21603.000000  21613.000000  2.161300e+04   \n",
            "mean   5.400881e+05      3.372870      2.115736   2079.899736  1.510697e+04   \n",
            "std    3.671272e+05      0.926657      0.768996    918.440897  4.142051e+04   \n",
            "min    7.500000e+04      1.000000      0.500000    290.000000  5.200000e+02   \n",
            "25%    3.219500e+05      3.000000      1.750000   1427.000000  5.040000e+03   \n",
            "50%    4.500000e+05      3.000000      2.250000   1910.000000  7.618000e+03   \n",
            "75%    6.450000e+05      4.000000      2.500000   2550.000000  1.068800e+04   \n",
            "max    7.700000e+06     33.000000      8.000000  13540.000000  1.651359e+06   \n",
            "\n",
            "             floors    waterfront          view     condition         grade  \\\n",
            "count  21613.000000  21613.000000  21613.000000  21613.000000  21613.000000   \n",
            "mean       1.494309      0.007542      0.234303      3.409430      7.656873   \n",
            "std        0.539989      0.086517      0.766318      0.650743      1.175459   \n",
            "min        1.000000      0.000000      0.000000      1.000000      1.000000   \n",
            "25%        1.000000      0.000000      0.000000      3.000000      7.000000   \n",
            "50%        1.500000      0.000000      0.000000      3.000000      7.000000   \n",
            "75%        2.000000      0.000000      0.000000      4.000000      8.000000   \n",
            "max        3.500000      1.000000      4.000000      5.000000     13.000000   \n",
            "\n",
            "         sqft_above  sqft_basement      yr_built  yr_renovated       zipcode  \\\n",
            "count  21613.000000   21613.000000  21613.000000  21613.000000  21613.000000   \n",
            "mean    1788.390691     291.509045   1971.005136     84.402258  98077.939805   \n",
            "std      828.090978     442.575043     29.373411    401.679240     53.505026   \n",
            "min      290.000000       0.000000   1900.000000      0.000000  98001.000000   \n",
            "25%     1190.000000       0.000000   1951.000000      0.000000  98033.000000   \n",
            "50%     1560.000000       0.000000   1975.000000      0.000000  98065.000000   \n",
            "75%     2210.000000     560.000000   1997.000000      0.000000  98118.000000   \n",
            "max     9410.000000    4820.000000   2015.000000   2015.000000  98199.000000   \n",
            "\n",
            "                lat          long  sqft_living15     sqft_lot15  \n",
            "count  21613.000000  21613.000000   21613.000000   21613.000000  \n",
            "mean      47.560053   -122.213896    1986.552492   12768.455652  \n",
            "std        0.138564      0.140828     685.391304   27304.179631  \n",
            "min       47.155900   -122.519000     399.000000     651.000000  \n",
            "25%       47.471000   -122.328000    1490.000000    5100.000000  \n",
            "50%       47.571800   -122.230000    1840.000000    7620.000000  \n",
            "75%       47.678000   -122.125000    2360.000000   10083.000000  \n",
            "max       47.777600   -121.315000    6210.000000  871200.000000  \n"
          ]
        }
      ]
    },
    {
      "cell_type": "markdown",
      "source": [
        "We can see we have missing values for the columns  bedrooms and  bathrooms"
      ],
      "metadata": {
        "id": "svc0yzUFpWwY"
      }
    },
    {
      "cell_type": "code",
      "source": [
        "print(\"number of NaN values for the column bedrooms :\", df['bedrooms'].isnull().sum())\n",
        "print(\"number of NaN values for the column bathrooms :\", df['bathrooms'].isnull().sum())"
      ],
      "metadata": {
        "colab": {
          "base_uri": "https://localhost:8080/"
        },
        "id": "BUOZV2r9pgXP",
        "outputId": "4f675d40-7aad-4279-ee9a-f4d2cb3bfb1b"
      },
      "execution_count": null,
      "outputs": [
        {
          "output_type": "stream",
          "name": "stdout",
          "text": [
            "number of NaN values for the column bedrooms : 13\n",
            "number of NaN values for the column bathrooms : 10\n"
          ]
        }
      ]
    },
    {
      "cell_type": "markdown",
      "source": [
        "We can replace the missing values of the column 'bedrooms' with the mean of the column 'bedrooms'  using the method replace(). Don't forget to set the inplace parameter to True"
      ],
      "metadata": {
        "id": "d12AAfosprnF"
      }
    },
    {
      "cell_type": "code",
      "source": [
        "mean=df['bedrooms'].mean()\n",
        "df['bedrooms'].replace(np.nan,mean, inplace=True)"
      ],
      "metadata": {
        "id": "hM_AfuIqps2F"
      },
      "execution_count": 17,
      "outputs": []
    },
    {
      "cell_type": "markdown",
      "source": [
        "We also replace the missing values of the column 'bathrooms' with the mean of the column 'bathrooms'  using the method replace(). Don't forget to set the  inplace  parameter top  True"
      ],
      "metadata": {
        "id": "rkm0CgCOrG3i"
      }
    },
    {
      "cell_type": "code",
      "source": [
        "mean=df['bathrooms'].mean()\n",
        "df['bathrooms'].replace(np.nan,mean, inplace=True)"
      ],
      "metadata": {
        "id": "0bhFC6XBrJFy"
      },
      "execution_count": 18,
      "outputs": []
    },
    {
      "cell_type": "code",
      "source": [
        "print(\"number of NaN values for the column bedrooms :\", df['bedrooms'].isnull().sum())\n",
        "print(\"number of NaN values for the column bathrooms :\", df['bathrooms'].isnull().sum())"
      ],
      "metadata": {
        "colab": {
          "base_uri": "https://localhost:8080/"
        },
        "id": "Gx1TktY5rkmh",
        "outputId": "f43676f4-1795-4dd4-b9ed-2fbc774550f8"
      },
      "execution_count": 19,
      "outputs": [
        {
          "output_type": "stream",
          "name": "stdout",
          "text": [
            "number of NaN values for the column bedrooms : 0\n",
            "number of NaN values for the column bathrooms : 0\n"
          ]
        }
      ]
    },
    {
      "cell_type": "markdown",
      "source": [
        "# **Module 3: Exploratory Data Analysis**"
      ],
      "metadata": {
        "id": "jcpL85Swrubv"
      }
    },
    {
      "cell_type": "markdown",
      "source": [
        "**Question 3**"
      ],
      "metadata": {
        "id": "gpRohQfRrzvv"
      }
    },
    {
      "cell_type": "markdown",
      "source": [
        "Use the method value_counts to count the number of houses with unique floor values, use the method .to_frame() to convert it to a data frame. Take a screenshot of your code and output. You will need to submit the screenshot for the final project."
      ],
      "metadata": {
        "id": "YthjWLPtr7D2"
      }
    },
    {
      "cell_type": "code",
      "source": [
        "# Count the number of houses with unique floor values and convert to a DataFrame\n",
        "floor_counts = df['floors'].value_counts().to_frame()\n",
        "\n",
        "# Rename the column for better readability (optional)\n",
        "floor_counts.rename(columns={'floors': 'count'}, inplace=True)\n",
        "\n",
        "# Display the result\n",
        "print(floor_counts)"
      ],
      "metadata": {
        "colab": {
          "base_uri": "https://localhost:8080/"
        },
        "id": "si30Vx1IsAoX",
        "outputId": "e3ac12d9-e0c0-47b9-8a5e-6ef6ce605590"
      },
      "execution_count": 20,
      "outputs": [
        {
          "output_type": "stream",
          "name": "stdout",
          "text": [
            "        count\n",
            "floors       \n",
            "1.0     10680\n",
            "2.0      8241\n",
            "1.5      1910\n",
            "3.0       613\n",
            "2.5       161\n",
            "3.5         8\n"
          ]
        }
      ]
    },
    {
      "cell_type": "markdown",
      "source": [
        "**Question 4**"
      ],
      "metadata": {
        "id": "AyP07ZT0svaV"
      }
    },
    {
      "cell_type": "code",
      "source": [
        "import seaborn as sns\n",
        "import matplotlib.pyplot as plt\n",
        "\n",
        "# Create a boxplot for price grouped by waterfront view\n",
        "plt.figure(figsize=(10, 6))  # Optional: Adjust figure size for better readability\n",
        "sns.boxplot(x='waterfront', y='price', data=df)\n",
        "\n",
        "# Add labels and a title\n",
        "plt.xlabel(\"Waterfront (0 = No, 1 = Yes)\")\n",
        "plt.ylabel(\"Price\")\n",
        "plt.title(\"Boxplot of Price by Waterfront View\")\n",
        "plt.show()"
      ],
      "metadata": {
        "colab": {
          "base_uri": "https://localhost:8080/",
          "height": 564
        },
        "id": "bx_QhIjDsyNK",
        "outputId": "daf0c048-7952-4364-83f0-d542c355a3db"
      },
      "execution_count": 21,
      "outputs": [
        {
          "output_type": "display_data",
          "data": {
            "text/plain": [
              "<Figure size 1000x600 with 1 Axes>"
            ],
            "image/png": "[encoded data removed]"
          },
          "metadata": {}
        }
      ]
    },
    {
      "cell_type": "markdown",
      "source": [
        "**Question 5**\n",
        "\n",
        "Use the function regplot in the seaborn library to determine if the feature sqft_above is negatively or positively correlated with price. Take a screenshot of your code and scatterplot. You will need to submit the screenshot for the final project."
      ],
      "metadata": {
        "id": "GYsubEeLtf_8"
      }
    },
    {
      "cell_type": "code",
      "source": [
        "import seaborn as sns\n",
        "import matplotlib.pyplot as plt\n",
        "\n",
        "# Create a regression plot for sqft_above vs. price\n",
        "plt.figure(figsize=(10, 6))  # Optional: Adjust the figure size\n",
        "sns.regplot(x='sqft_above', y='price', data=df, line_kws={\"color\": \"red\"})\n",
        "\n",
        "# Add labels and a title\n",
        "plt.xlabel(\"Square Feet Above Ground\")\n",
        "plt.ylabel(\"Price\")\n",
        "plt.title(\"Regression Plot of Price vs. Square Feet Above Ground\")\n",
        "plt.show()"
      ],
      "metadata": {
        "colab": {
          "base_uri": "https://localhost:8080/",
          "height": 564
        },
        "id": "wApVidpKtigw",
        "outputId": "382e9dcc-9205-47d1-a100-a1205c8361e8"
      },
      "execution_count": 22,
      "outputs": [
        {
          "output_type": "display_data",
          "data": {
            "text/plain": [
              "<Figure size 1000x600 with 1 Axes>"
            ],
            "image/png": "[encoded data removed]"
          },
          "metadata": {}
        }
      ]
    },
    {
      "cell_type": "markdown",
      "source": [
        "We can use the Pandas method corr() to find the feature other than price that is most correlated with price."
      ],
      "metadata": {
        "id": "65P5Lmynt_Vh"
      }
    },
    {
      "cell_type": "code",
      "source": [
        "# Drop the non-numerical column 'date' (if needed)\n",
        "df.drop(columns=['date'], inplace=True)\n",
        "\n",
        "# Recalculate the correlation\n",
        "correlation_matrix = df.corr()\n",
        "price_correlations = correlation_matrix[\"price\"].sort_values(ascending=False)\n",
        "\n",
        "# Display the most correlated feature other than price\n",
        "print(\"Most correlated feature with price (other than price itself):\")\n",
        "print(price_correlations[1:2])"
      ],
      "metadata": {
        "colab": {
          "base_uri": "https://localhost:8080/"
        },
        "id": "4ftcTBnVuAYp",
        "outputId": "ed2245ea-d123-46e9-a5fb-042a2b2b2be5"
      },
      "execution_count": 26,
      "outputs": [
        {
          "output_type": "stream",
          "name": "stdout",
          "text": [
            "Most correlated feature with price (other than price itself):\n",
            "sqft_living    0.702035\n",
            "Name: price, dtype: float64\n"
          ]
        }
      ]
    },
    {
      "cell_type": "markdown",
      "source": [
        "**Module 4: Model Development**\n",
        "\n",
        "We can Fit a linear regression model using the longitude feature 'long' and caculate the R^2."
      ],
      "metadata": {
        "id": "jojuGKWqvbwO"
      }
    },
    {
      "cell_type": "code",
      "source": [
        "X = df[['long']]\n",
        "Y = df['price']\n",
        "lm = LinearRegression()\n",
        "lm.fit(X,Y)\n",
        "lm.score(X, Y)"
      ],
      "metadata": {
        "colab": {
          "base_uri": "https://localhost:8080/"
        },
        "id": "FjFMh5nxvnQk",
        "outputId": "5ded7d51-c57f-4b04-cf3d-4066281b133d"
      },
      "execution_count": 27,
      "outputs": [
        {
          "output_type": "execute_result",
          "data": {
            "text/plain": [
              "0.00046769430149007363"
            ]
          },
          "metadata": {},
          "execution_count": 27
        }
      ]
    },
    {
      "cell_type": "markdown",
      "source": [
        "**Question 6**\n",
        "\n",
        "Fit a linear regression model to predict the 'price' using the feature 'sqft_living' then calculate the R^2. Take a screenshot of your code and the value of the R^2. You will need to submit it for the final project."
      ],
      "metadata": {
        "id": "itmvHn_Uvq76"
      }
    },
    {
      "cell_type": "code",
      "source": [
        "from sklearn.linear_model import LinearRegression\n",
        "from sklearn.model_selection import train_test_split\n",
        "from sklearn.metrics import r2_score\n",
        "\n",
        "# Extract the features (X) and target variable (y)\n",
        "X = df[['sqft_living']]  # Feature must be a 2D array\n",
        "y = df['price']          # Target variable\n",
        "\n",
        "# Split the data into training and testing sets\n",
        "X_train, X_test, y_train, y_test = train_test_split(X, y, test_size=0.2, random_state=42)\n",
        "\n",
        "# Create and fit the linear regression model\n",
        "model = LinearRegression()\n",
        "model.fit(X_train, y_train)\n",
        "\n",
        "# Predict on the test set\n",
        "y_pred = model.predict(X_test)\n",
        "\n",
        "# Calculate the R^2 score\n",
        "r2 = r2_score(y_test, y_pred)\n",
        "\n",
        "# Display the R^2 value\n",
        "print(f\"R^2 Value: {r2:.4f}\")"
      ],
      "metadata": {
        "colab": {
          "base_uri": "https://localhost:8080/"
        },
        "id": "IVRSCBgRvv7j",
        "outputId": "39d8db67-becc-4e5b-a58b-8871fc411203"
      },
      "execution_count": 28,
      "outputs": [
        {
          "output_type": "stream",
          "name": "stdout",
          "text": [
            "R^2 Value: 0.4941\n"
          ]
        }
      ]
    },
    {
      "cell_type": "markdown",
      "source": [
        "**Question 7**\n",
        "\n",
        "Fit a linear regression model to predict the 'price' using the list of features:"
      ],
      "metadata": {
        "id": "mvuYvZo_wLk6"
      }
    },
    {
      "cell_type": "code",
      "source": [
        "features =[\"floors\", \"waterfront\",\"lat\" ,\"bedrooms\" ,\"sqft_basement\" ,\"view\" ,\"bathrooms\",\"sqft_living15\",\"sqft_above\",\"grade\",\"sqft_living\"]"
      ],
      "metadata": {
        "id": "LUOZr7MbwOVp"
      },
      "execution_count": 29,
      "outputs": []
    },
    {
      "cell_type": "markdown",
      "source": [
        "Then calculate the R^2. Take a screenshot of your code and the value of the R^2. You will need to submit it for the final project."
      ],
      "metadata": {
        "id": "QhQMqL1RwctT"
      }
    },
    {
      "cell_type": "code",
      "source": [
        "from sklearn.linear_model import LinearRegression\n",
        "from sklearn.model_selection import train_test_split\n",
        "from sklearn.metrics import r2_score\n",
        "\n",
        "# Extract the features (X) and target variable (y)\n",
        "X = df[['sqft_living']]  # Feature must be a 2D array\n",
        "y = df['price']          # Target variable\n",
        "\n",
        "# Split the data into training and testing sets\n",
        "X_train, X_test, y_train, y_test = train_test_split(X, y, test_size=0.2, random_state=42)\n",
        "\n",
        "# Create and fit the linear regression model\n",
        "model = LinearRegression()\n",
        "model.fit(X_train, y_train)\n",
        "\n",
        "# Predict on the test set\n",
        "y_pred = model.predict(X_test)\n",
        "\n",
        "# Calculate the R^2 score\n",
        "r2 = r2_score(y_test, y_pred)\n",
        "\n",
        "# Display the R^2 value\n",
        "print(f\"R^2 Value: {r2:.4f}\")"
      ],
      "metadata": {
        "colab": {
          "base_uri": "https://localhost:8080/"
        },
        "id": "iD3jdUZ7wfTZ",
        "outputId": "64c55799-5a04-4f2a-b21a-6754abe5b698"
      },
      "execution_count": 30,
      "outputs": [
        {
          "output_type": "stream",
          "name": "stdout",
          "text": [
            "R^2 Value: 0.4941\n"
          ]
        }
      ]
    },
    {
      "cell_type": "markdown",
      "source": [
        "**This will help with Question 8**\n",
        "\n",
        "Create a list of tuples, the first element in the tuple contains the name of the estimator:\n",
        "'scale'\n",
        "'polynomial'\n",
        "'model'\n",
        "The second element in the tuple contains the model constructor\n",
        "StandardScaler()\n",
        "PolynomialFeatures(include_bias=False)\n",
        "LinearRegression()"
      ],
      "metadata": {
        "id": "sf3ZsK5zw7h4"
      }
    },
    {
      "cell_type": "code",
      "source": [
        "Input=[('scale',StandardScaler()),('polynomial', PolynomialFeatures(include_bias=False)),('model',LinearRegression())]"
      ],
      "metadata": {
        "id": "DnsezHbYxE0X"
      },
      "execution_count": 31,
      "outputs": []
    },
    {
      "cell_type": "markdown",
      "source": [
        "**Question 8**\n",
        "\n",
        "Use the list to create a pipeline object to predict the 'price', fit the object using the features in the list features, and calculate the R^2. Take a screenshot of your code and the value of the R^2. You will need to submit it for the final project."
      ],
      "metadata": {
        "id": "htLW_jysxO-o"
      }
    },
    {
      "cell_type": "code",
      "source": [
        "from sklearn.pipeline import Pipeline\n",
        "from sklearn.linear_model import LinearRegression\n",
        "from sklearn.preprocessing import StandardScaler\n",
        "from sklearn.model_selection import train_test_split\n",
        "from sklearn.metrics import r2_score\n",
        "\n",
        "# Define the features and target variable\n",
        "features = ['sqft_living', 'bedrooms', 'bathrooms', 'floors']\n",
        "X = df[features]  # Features from the DataFrame\n",
        "y = df['price']   # Target variable\n",
        "\n",
        "# Split the data into training and testing sets\n",
        "X_train, X_test, y_train, y_test = train_test_split(X, y, test_size=0.2, random_state=42)\n",
        "\n",
        "# Create a pipeline object\n",
        "pipeline = Pipeline([\n",
        "    ('scaler', StandardScaler()),   # Standardize the features\n",
        "    ('model', LinearRegression())  # Linear regression model\n",
        "])\n",
        "\n",
        "# Fit the pipeline on the training data\n",
        "pipeline.fit(X_train, y_train)\n",
        "\n",
        "# Predict on the test data\n",
        "y_pred = pipeline.predict(X_test)\n",
        "\n",
        "# Calculate the R^2 score\n",
        "r2 = r2_score(y_test, y_pred)\n",
        "\n",
        "# Display the R^2 value\n",
        "print(f\"R^2 Value: {r2:.4f}\")"
      ],
      "metadata": {
        "colab": {
          "base_uri": "https://localhost:8080/"
        },
        "id": "sEzgW3h-xUVW",
        "outputId": "1ebe70d7-fa1f-4c62-8df6-749ef6abb88e"
      },
      "execution_count": 32,
      "outputs": [
        {
          "output_type": "stream",
          "name": "stdout",
          "text": [
            "R^2 Value: 0.5093\n"
          ]
        }
      ]
    },
    {
      "cell_type": "markdown",
      "source": [
        "# **Module 5: Model Evaluation and Refinement**\n",
        "\n",
        "Import the necessary modules:"
      ],
      "metadata": {
        "id": "C2J-h919x5o1"
      }
    },
    {
      "cell_type": "code",
      "source": [
        "from sklearn.model_selection import cross_val_score\n",
        "from sklearn.model_selection import train_test_split\n",
        "print(\"done\")"
      ],
      "metadata": {
        "colab": {
          "base_uri": "https://localhost:8080/"
        },
        "id": "ADPEVwWPyFy1",
        "outputId": "2139c463-d408-4d5b-ea5f-e421fa5adea1"
      },
      "execution_count": 33,
      "outputs": [
        {
          "output_type": "stream",
          "name": "stdout",
          "text": [
            "done\n"
          ]
        }
      ]
    },
    {
      "cell_type": "markdown",
      "source": [
        "We will split the data into training and testing sets:"
      ],
      "metadata": {
        "id": "bvjZ8eioyREj"
      }
    },
    {
      "cell_type": "code",
      "source": [
        "features =[\"floors\", \"waterfront\",\"lat\" ,\"bedrooms\" ,\"sqft_basement\" ,\"view\" ,\"bathrooms\",\"sqft_living15\",\"sqft_above\",\"grade\",\"sqft_living\"]\n",
        "X = df[features]\n",
        "Y = df['price']\n",
        "\n",
        "x_train, x_test, y_train, y_test = train_test_split(X, Y, test_size=0.15, random_state=1)\n",
        "\n",
        "\n",
        "print(\"number of test samples:\", x_test.shape[0])\n",
        "print(\"number of training samples:\",x_train.shape[0])"
      ],
      "metadata": {
        "colab": {
          "base_uri": "https://localhost:8080/"
        },
        "id": "zQ2QwEOsySar",
        "outputId": "67b05810-21cb-48a5-c697-35ae0a52e265"
      },
      "execution_count": 34,
      "outputs": [
        {
          "output_type": "stream",
          "name": "stdout",
          "text": [
            "number of test samples: 3242\n",
            "number of training samples: 18371\n"
          ]
        }
      ]
    },
    {
      "cell_type": "markdown",
      "source": [
        "**Question 9**\n",
        "\n",
        "Create and fit a Ridge regression object using the training data, set the regularization parameter to 0.1, and calculate the R^2 using the test data. Take a screenshot of your code and the value of the R^2. You will need to submit it for the final project."
      ],
      "metadata": {
        "id": "Eam-tn9byiRS"
      }
    },
    {
      "cell_type": "code",
      "source": [
        "from sklearn.linear_model import Ridge"
      ],
      "metadata": {
        "id": "6so2eg-cykqy"
      },
      "execution_count": 35,
      "outputs": []
    },
    {
      "cell_type": "code",
      "source": [
        "from sklearn.linear_model import Ridge\n",
        "from sklearn.model_selection import train_test_split\n",
        "from sklearn.metrics import r2_score\n",
        "\n",
        "# Define the features and target variable\n",
        "features = ['sqft_living', 'bedrooms', 'bathrooms', 'floors']\n",
        "X = df[features]  # Features from the DataFrame\n",
        "y = df['price']   # Target variable\n",
        "\n",
        "# Split the data into training and testing sets\n",
        "X_train, X_test, y_train, y_test = train_test_split(X, y, test_size=0.2, random_state=42)\n",
        "\n",
        "# Create a Ridge regression object with regularization parameter alpha=0.1\n",
        "ridge_model = Ridge(alpha=0.1)\n",
        "\n",
        "# Fit the Ridge model on the training data\n",
        "ridge_model.fit(X_train, y_train)\n",
        "\n",
        "# Predict on the test data\n",
        "y_pred = ridge_model.predict(X_test)\n",
        "\n",
        "# Calculate the R^2 score\n",
        "r2 = r2_score(y_test, y_pred)\n",
        "\n",
        "# Display the R^2 value\n",
        "print(f\"R^2 Value: {r2:.4f}\")"
      ],
      "metadata": {
        "colab": {
          "base_uri": "https://localhost:8080/"
        },
        "id": "i6EV7SUPy-o6",
        "outputId": "7533a6ca-7013-4a1d-a1f1-d1966ee9959d"
      },
      "execution_count": 36,
      "outputs": [
        {
          "output_type": "stream",
          "name": "stdout",
          "text": [
            "R^2 Value: 0.5093\n"
          ]
        }
      ]
    },
    {
      "cell_type": "markdown",
      "source": [
        "**Question 10**\n",
        "\n",
        "Perform a second order polynomial transform on both the training data and testing data. Create and fit a Ridge regression object using the training data, set the regularisation parameter to 0.1, and calculate the R^2 utilising the test data provided. Take a screenshot of your code and the R^2. You will need to submit it for the final project."
      ],
      "metadata": {
        "id": "O4FBVce9zjuh"
      }
    },
    {
      "cell_type": "code",
      "source": [
        "from sklearn.preprocessing import PolynomialFeatures, StandardScaler\n",
        "from sklearn.linear_model import Ridge\n",
        "from sklearn.model_selection import train_test_split\n",
        "from sklearn.metrics import r2_score\n",
        "\n",
        "# Escalar características\n",
        "scaler = StandardScaler()\n",
        "X_train_scaled = scaler.fit_transform(X_train)\n",
        "X_test_scaled = scaler.transform(X_test)\n",
        "\n",
        "# Transformación polinómica en datos escalados\n",
        "X_train_poly = poly.fit_transform(X_train_scaled)\n",
        "X_test_poly = poly.transform(X_test_scaled)\n",
        "\n",
        "# Ridge Regression\n",
        "ridge_model = Ridge(alpha=0.1)\n",
        "ridge_model.fit(X_train_poly, y_train)\n",
        "y_pred = ridge_model.predict(X_test_poly)\n",
        "\n",
        "# R^2 score\n",
        "r2 = r2_score(y_test, y_pred)\n",
        "print(f\"R^2 Value: {r2:.4f}\")"
      ],
      "metadata": {
        "colab": {
          "base_uri": "https://localhost:8080/"
        },
        "id": "dGPLd9tGzmTv",
        "outputId": "f72dcdfa-e686-482b-997b-6d610aca2fc2"
      },
      "execution_count": 38,
      "outputs": [
        {
          "output_type": "stream",
          "name": "stdout",
          "text": [
            "R^2 Value: 0.4730\n"
          ]
        }
      ]
    }
  ]
}